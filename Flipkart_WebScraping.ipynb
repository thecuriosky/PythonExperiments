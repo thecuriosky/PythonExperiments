{
 "cells": [
  {
   "cell_type": "code",
   "execution_count": 29,
   "metadata": {},
   "outputs": [],
   "source": [
    "from bs4 import BeautifulSoup as soup\n",
    "from urllib.request import urlopen as uReq"
   ]
  },
  {
   "cell_type": "code",
   "execution_count": 30,
   "metadata": {},
   "outputs": [],
   "source": [
    "my_url = 'https://www.flipkart.com/search?q=redmi&otracker=search&otracker1=search&marketplace=FLIPKART&as-show=on&as=off'"
   ]
  },
  {
   "cell_type": "code",
   "execution_count": 31,
   "metadata": {},
   "outputs": [],
   "source": [
    "uClient = uReq(my_url)\n",
    "page_html = uClient.read()\n",
    "uClient.close()\n",
    "page_soup = soup(page_html, 'html.parser')"
   ]
  },
  {
   "cell_type": "code",
   "execution_count": 32,
   "metadata": {},
   "outputs": [],
   "source": [
    "containers = page_soup.findAll('div', {'class':'_3O0U0u'})\n",
    "#print(len(containers))\n",
    "#print(soup.prettify(containers[0]))\n"
   ]
  },
  {
   "cell_type": "code",
   "execution_count": 33,
   "metadata": {},
   "outputs": [],
   "source": [
    "container = containers[0]\n",
    "#print(container.div.img['alt'])"
   ]
  },
  {
   "cell_type": "code",
   "execution_count": 34,
   "metadata": {},
   "outputs": [],
   "source": [
    "price = container.findAll('div',{'class':'col col-5-12 _2o7WAb'})\n",
    "#print(price[0].text)"
   ]
  },
  {
   "cell_type": "code",
   "execution_count": 35,
   "metadata": {},
   "outputs": [],
   "source": [
    "ratings = container.findAll('div',{'class':'niH0FQ'})\n",
    "#print(ratings[0].text)"
   ]
  },
  {
   "cell_type": "code",
   "execution_count": 36,
   "metadata": {},
   "outputs": [
    {
     "data": {
      "text/plain": [
       "27"
      ]
     },
     "execution_count": 36,
     "metadata": {},
     "output_type": "execute_result"
    }
   ],
   "source": [
    "filename = 'redmi_products.csv'\n",
    "f = open(filename, 'w')\n",
    "headers = 'Product_Name,Price,Ratings\\n'\n",
    "f.write(headers)"
   ]
  },
  {
   "cell_type": "code",
   "execution_count": 37,
   "metadata": {},
   "outputs": [
    {
     "name": "stdout",
     "output_type": "stream",
     "text": [
      "Redmi 8 (Onyx Black| 64 GB),Rs.9999,4.47,01,495\n",
      "\n",
      "Redmi 8 (Sapphire Blue| 64 GB),Rs.9999,4.47,01,495\n",
      "\n",
      "Redmi 8 (Ruby Red| 64 GB),Rs.9999,4.47,01,495\n",
      "\n",
      "Redmi 8 (Emerald Green| 64 GB),Rs.9999,4.47,01,495\n",
      "\n",
      "Redmi 8A Dual (Sea Blue| 64 GB),Rs.9480,4.21,364\n",
      "\n",
      "Redmi K20 Pro (Glacier Blue| 128 GB),Rs.22999,4.561,904\n",
      "\n",
      "Redmi Note 9 (Aqua Green| 64 GB),Rs.14793No Cost ,4.722\n",
      "\n",
      "Redmi 8A Dual (Midnight Grey| 64 GB),Rs.9498No Cost ,4.21,364\n",
      "\n",
      "Redmi Note 9 Pro (Glacier White| 64 GB),Rs.16990No Cost ,4.2946\n",
      "\n",
      "Redmi Note 9 (Pebble Grey| 64 GB),Rs.14770No Cost ,4.722\n",
      "\n",
      "Redmi Note 9 (Arctic White| 64 GB),Rs.14985No Cost ,4.722\n",
      "\n",
      "Redmi Note 8 Pro (Electric Blue| 128 GB),Rs.17999No Cost ,4.458,842\n",
      "\n",
      "Redmi Note 8 Pro (Halo White| 128 GB),Rs.17499,4.458,842\n",
      "\n",
      "Redmi Note 9 (Pebble Grey| 128 GB),Rs.16485No Cost ,4.722\n",
      "\n",
      "Redmi Note 9 (Aqua Green| 128 GB),Rs.16498No Cost ,4.722\n",
      "\n",
      "Redmi 8A Dual (Sea Blue| 32 GB),Rs.8194No Cost ,4.32,158\n",
      "\n",
      "Redmi K20 Pro (Carbon Black| 128 GB),Rs.22999,4.561,904\n",
      "\n",
      "Redmi Note 8 (Neptune Blue| 128 GB),Rs.15999No Cost ,4.411,774\n",
      "\n",
      "Redmi 8A Dual (Sky White| 32 GB),Rs.8073No Cost ,4.32,158\n",
      "\n",
      "Redmi 8A Dual (Sky White| 64 GB),Rs.9475No Cost ,4.21,364\n",
      "\n",
      "Redmi 8A Dual (Midnight Grey| 32 GB),Rs.8189No Cost ,4.32,158\n",
      "\n",
      "Redmi Note 8 (Space Black| 64 GB),Rs.13999No Cost ,4.416,338\n",
      "\n",
      "Redmi Note 8 (Cosmic Purple| 64 GB),Rs.13999No Cost ,4.416,338\n",
      "\n",
      "Redmi Note 8 (Moonlight White| 64 GB),Rs.13999No Cost ,4.416,338\n",
      "\n"
     ]
    }
   ],
   "source": [
    "for container in containers:\n",
    "    product_name = container.div.img['alt']\n",
    "    \n",
    "    price_container = container.findAll('div',{'class':'col col-5-12 _2o7WAb'})\n",
    "    price = price_container[0].text.strip()\n",
    "    \n",
    "    rating_container = container.findAll('div',{'class':'niH0FQ'})\n",
    "    rating = rating_container[0].text\n",
    "    '''\n",
    "    print('Product Name:'+product_name)\n",
    "    print('Price:'+price)\n",
    "    print('Ratings:'+rating)\n",
    "    '''\n",
    "    trim_price = ''.join(price.split(','))\n",
    "    rm_rupee = trim_price.split('₹')\n",
    "    add_rs_price = 'Rs.' + rm_rupee[1]\n",
    "    split_price = add_rs_price.split('E')\n",
    "    final_price = split_price[0]\n",
    "    \n",
    "    split_rating = rating.split(' ')\n",
    "    final_rating = split_rating[0]\n",
    "    \n",
    "    print(product_name.replace(',','|') + ',' + final_price + ',' + final_rating + '\\n')\n",
    "    f.write(product_name.replace(',', '|') + ',' + final_price + ',' + final_rating + '\\n')\n",
    "\n",
    "f.close()"
   ]
  },
  {
   "cell_type": "code",
   "execution_count": null,
   "metadata": {},
   "outputs": [],
   "source": []
  }
 ],
 "metadata": {
  "kernelspec": {
   "display_name": "Python 3",
   "language": "python",
   "name": "python3"
  },
  "language_info": {
   "codemirror_mode": {
    "name": "ipython",
    "version": 3
   },
   "file_extension": ".py",
   "mimetype": "text/x-python",
   "name": "python",
   "nbconvert_exporter": "python",
   "pygments_lexer": "ipython3",
   "version": "3.7.6"
  }
 },
 "nbformat": 4,
 "nbformat_minor": 4
}
